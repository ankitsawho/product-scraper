{
 "cells": [
  {
   "cell_type": "code",
   "execution_count": 1,
   "id": "e72a4d17",
   "metadata": {},
   "outputs": [],
   "source": [
    "import requests\n",
    "from bs4 import BeautifulSoup"
   ]
  },
  {
   "cell_type": "code",
   "execution_count": 2,
   "id": "4093fbbe",
   "metadata": {},
   "outputs": [],
   "source": [
    "HEADERS = ({'User-Agent':\n",
    "            'Mozilla/5.0 (X11; Linux x86_64) AppleWebKit/537.36 (KHTML, like Gecko) Chrome/44.0.2403.157 Safari/537.36',\n",
    "            'Accept-Language': 'en-US, en;q=0.5'})"
   ]
  },
  {
   "cell_type": "markdown",
   "id": "f3db86a7",
   "metadata": {},
   "source": [
    "## Amazon"
   ]
  },
  {
   "cell_type": "code",
   "execution_count": 34,
   "id": "47e01677",
   "metadata": {},
   "outputs": [
    {
     "name": "stdout",
     "output_type": "stream",
     "text": [
      "https://www.amazon.in/SONY-WH-CH510-Wireless-Headphone-Blue/dp/B0817T8FB6/ref=sr_1_5?keywords=headphones&qid=1679821176&sr=8-5\n"
     ]
    }
   ],
   "source": [
    "url = input()"
   ]
  },
  {
   "cell_type": "code",
   "execution_count": 35,
   "id": "d216e46c",
   "metadata": {},
   "outputs": [],
   "source": [
    "webpage = requests.get(url, headers=HEADERS)\n",
    "soup = BeautifulSoup(webpage.content, \"lxml\")"
   ]
  },
  {
   "cell_type": "code",
   "execution_count": 36,
   "id": "41ab8e36",
   "metadata": {},
   "outputs": [],
   "source": [
    "# Rating"
   ]
  },
  {
   "cell_type": "code",
   "execution_count": 37,
   "id": "18abd8fc",
   "metadata": {},
   "outputs": [],
   "source": [
    "no_rating = soup.find('span', attrs={'id': 'acrCustomerReviewText'}).text"
   ]
  },
  {
   "cell_type": "code",
   "execution_count": 38,
   "id": "e4c33793",
   "metadata": {},
   "outputs": [
    {
     "data": {
      "text/plain": [
       "'3,277 ratings'"
      ]
     },
     "execution_count": 38,
     "metadata": {},
     "output_type": "execute_result"
    }
   ],
   "source": [
    "no_rating"
   ]
  },
  {
   "cell_type": "code",
   "execution_count": 39,
   "id": "b67c2fe9",
   "metadata": {},
   "outputs": [],
   "source": [
    "# Discount"
   ]
  },
  {
   "cell_type": "code",
   "execution_count": 40,
   "id": "e48802bc",
   "metadata": {},
   "outputs": [],
   "source": [
    "discount = soup.find('span', attrs={'class':\"a-size-large a-color-price savingPriceOverride aok-align-center reinventPriceSavingsPercentageMargin savingsPercentage\"}).text"
   ]
  },
  {
   "cell_type": "code",
   "execution_count": 41,
   "id": "28b32be1",
   "metadata": {},
   "outputs": [],
   "source": [
    "# Price"
   ]
  },
  {
   "cell_type": "code",
   "execution_count": 42,
   "id": "1f8636d8",
   "metadata": {},
   "outputs": [],
   "source": [
    "price_data = soup.find('span', attrs={'class':'a-price aok-align-center reinventPricePriceToPayMargin priceToPay'})\n",
    "price = price_data.find('span', attrs={'class': 'a-offscreen'}).text"
   ]
  },
  {
   "cell_type": "code",
   "execution_count": 43,
   "id": "0370efa1",
   "metadata": {},
   "outputs": [
    {
     "data": {
      "text/plain": [
       "'₹2,299'"
      ]
     },
     "execution_count": 43,
     "metadata": {},
     "output_type": "execute_result"
    }
   ],
   "source": [
    "price"
   ]
  },
  {
   "cell_type": "code",
   "execution_count": 44,
   "id": "c0399a2d",
   "metadata": {},
   "outputs": [],
   "source": [
    "# Real Price"
   ]
  },
  {
   "cell_type": "code",
   "execution_count": 45,
   "id": "3f591165",
   "metadata": {
    "scrolled": true
   },
   "outputs": [
    {
     "data": {
      "text/plain": [
       "'₹4,990'"
      ]
     },
     "execution_count": 45,
     "metadata": {},
     "output_type": "execute_result"
    }
   ],
   "source": [
    "real_price_data = soup.find('span', attrs={'class':'a-size-small a-color-secondary aok-align-center basisPrice'})\n",
    "real_price = real_price_data.find('span', attrs={'class':'a-offscreen'}).text\n",
    "real_price"
   ]
  },
  {
   "cell_type": "code",
   "execution_count": 46,
   "id": "d612a1ce",
   "metadata": {},
   "outputs": [],
   "source": [
    "desc_data = soup.find('ul', attrs={'class':'a-unordered-list a-vertical a-spacing-mini'})"
   ]
  },
  {
   "cell_type": "code",
   "execution_count": 47,
   "id": "0410f87f",
   "metadata": {},
   "outputs": [
    {
     "data": {
      "text/plain": [
       "'  Comfort : Lightweight, all-day listening with quality sound    Bluetooth : Listen to your favourite tracks wirelessly with a Bluetooth wireless technology by pairing your smartphone or tablet.    Battery Life : With up to 35 hours of battery life, you’ll have enough power for even long trips away.    If your headphones are running low on power, a 10-minute quick charging with the Type-C cable will give you up to 90 minutes of play.    Take music anywhere : Not only are the WH-CH510 headphones compact and lightweight, but the swivel earcups make it easy to safely pack them away in your bag.    Buttons that make listening easy : Use the buttons to play, stop, or skip through tracks and adjust the volume.    Easy hands-free calling : Conversation flows freely with easy hands-free calling, thanks to the built-in microphone. No need to even take your phone from your pocket.   '"
      ]
     },
     "execution_count": 47,
     "metadata": {},
     "output_type": "execute_result"
    }
   ],
   "source": [
    "desc_data.text"
   ]
  },
  {
   "cell_type": "markdown",
   "id": "2087355d",
   "metadata": {},
   "source": [
    "## Flipkart"
   ]
  },
  {
   "cell_type": "code",
   "execution_count": 48,
   "id": "ab1e5bf8",
   "metadata": {},
   "outputs": [
    {
     "name": "stdout",
     "output_type": "stream",
     "text": [
      "https://www.flipkart.com/boult-audio-airbass-gearpods-32h-playtime-bluetooth-headset/p/itm116c0c010d463?pid=ACCG6HMH8MFR5XXK&lid=LSTACCG6HMH8MFR5XXKEJNNV5&marketplace=FLIPKART&q=headphone&store=0pm%2Ffcn&srno=s_2_41&otracker=search&otracker1=search&fm=Search&iid=f7ef4a56-06e7-4b87-af7a-081226158e95.ACCG6HMH8MFR5XXK.SEARCH&ppt=sp&ppn=sp&ssid=gb74b631yo0000001679820072131&qH=b052e360817fdeec\n"
     ]
    }
   ],
   "source": [
    "url = input()"
   ]
  },
  {
   "cell_type": "code",
   "execution_count": 49,
   "id": "1db67f99",
   "metadata": {},
   "outputs": [],
   "source": [
    "webpage = requests.get(url, headers=HEADERS)\n",
    "soup = BeautifulSoup(webpage.content, \"lxml\")"
   ]
  },
  {
   "cell_type": "code",
   "execution_count": 75,
   "id": "a3e586ae",
   "metadata": {},
   "outputs": [],
   "source": [
    "# Reviews Data"
   ]
  },
  {
   "cell_type": "code",
   "execution_count": 66,
   "id": "36134cb8",
   "metadata": {},
   "outputs": [],
   "source": [
    "review_data = soup.find_all('div', attrs={'class':'row _2afbiS'})"
   ]
  },
  {
   "cell_type": "code",
   "execution_count": 65,
   "id": "acbb993a",
   "metadata": {},
   "outputs": [
    {
     "data": {
      "text/plain": [
       "('1,35,940 Ratings\\xa0', '\\xa015,338 Reviews')"
      ]
     },
     "execution_count": 65,
     "metadata": {},
     "output_type": "execute_result"
    }
   ],
   "source": [
    "no_rating = review_data.findChildren()[1].text\n",
    "no_reviews = review_data.findChildren()[3].text\n",
    "no_rating, no_reviews"
   ]
  },
  {
   "cell_type": "code",
   "execution_count": 74,
   "id": "c804a787",
   "metadata": {},
   "outputs": [],
   "source": [
    "# Real Price"
   ]
  },
  {
   "cell_type": "code",
   "execution_count": 72,
   "id": "09ed5f2e",
   "metadata": {},
   "outputs": [],
   "source": [
    "real_price = soup.find('div', attrs={'class':'_3I9_wc _2p6lqe'}).text"
   ]
  },
  {
   "cell_type": "code",
   "execution_count": 76,
   "id": "ff81f54e",
   "metadata": {},
   "outputs": [],
   "source": [
    "# discount"
   ]
  },
  {
   "cell_type": "code",
   "execution_count": 79,
   "id": "b5f310e2",
   "metadata": {},
   "outputs": [
    {
     "data": {
      "text/plain": [
       "'83% off'"
      ]
     },
     "execution_count": 79,
     "metadata": {},
     "output_type": "execute_result"
    }
   ],
   "source": [
    "discount = soup.find('div', attrs={'class':'_3Ay6Sb _31Dcoz'}).text\n",
    "discount"
   ]
  },
  {
   "cell_type": "code",
   "execution_count": null,
   "id": "f2343d4c",
   "metadata": {},
   "outputs": [],
   "source": []
  },
  {
   "cell_type": "code",
   "execution_count": null,
   "id": "c45f13b5",
   "metadata": {},
   "outputs": [],
   "source": []
  }
 ],
 "metadata": {
  "kernelspec": {
   "display_name": "Python 3 (ipykernel)",
   "language": "python",
   "name": "python3"
  },
  "language_info": {
   "codemirror_mode": {
    "name": "ipython",
    "version": 3
   },
   "file_extension": ".py",
   "mimetype": "text/x-python",
   "name": "python",
   "nbconvert_exporter": "python",
   "pygments_lexer": "ipython3",
   "version": "3.10.6"
  }
 },
 "nbformat": 4,
 "nbformat_minor": 5
}
